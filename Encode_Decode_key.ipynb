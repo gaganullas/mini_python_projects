{
 "cells": [
  {
   "cell_type": "markdown",
   "metadata": {},
   "source": [
    " Importing Tkinter and base64 Module"
   ]
  },
  {
   "cell_type": "code",
   "execution_count": 1,
   "metadata": {},
   "outputs": [],
   "source": [
    "from tkinter import *\n",
    "import base64"
   ]
  },
  {
   "cell_type": "markdown",
   "metadata": {},
   "source": [
    "Initialize GUI window"
   ]
  },
  {
   "cell_type": "code",
   "execution_count": 2,
   "metadata": {},
   "outputs": [],
   "source": [
    "window = Tk()\n",
    "window.geometry('500x300')\n",
    "window.resizable(0,0)\n",
    "window.title(\"Gagan's Encode - Decode Interface\")\n",
    "Label(window,text ='ENCODE DECODE WITH KEY', font = 'arial 20 bold').pack()"
   ]
  },
  {
   "cell_type": "markdown",
   "metadata": {},
   "source": [
    "Initialize the required variables"
   ]
  },
  {
   "cell_type": "code",
   "execution_count": 3,
   "metadata": {},
   "outputs": [],
   "source": [
    "Message = StringVar()\n",
    "Key = StringVar()\n",
    "mode = StringVar()\n",
    "Result = StringVar()"
   ]
  },
  {
   "cell_type": "markdown",
   "metadata": {},
   "source": [
    "Encode the message with key using ord() and chr()"
   ]
  },
  {
   "cell_type": "code",
   "execution_count": 4,
   "metadata": {},
   "outputs": [],
   "source": [
    "def Encode(Key,Message):\n",
    "    enc = []\n",
    "    \n",
    "    for i in range(len(Message)):\n",
    "        curr_key = Key[i%len(Key)]\n",
    "        enc.append(chr(ord(Message[i])+ord(curr_key)))\n",
    "    return base64.urlsafe_b64encode(\"\".join(enc).encode()).decode()"
   ]
  },
  {
   "cell_type": "markdown",
   "metadata": {},
   "source": [
    "Decode the message with key using ord() and chr()"
   ]
  },
  {
   "cell_type": "code",
   "execution_count": 5,
   "metadata": {},
   "outputs": [],
   "source": [
    "def Decode(Key,Message):\n",
    "    dec = []\n",
    "    Message = base64.urlsafe_b64decode(Message).decode()\n",
    "    \n",
    "    for i in range(len(Message)):\n",
    "        curr_key = Key[i%len(Key)]\n",
    "        dec.append(chr(ord(Message[i])-ord(curr_key)))\n",
    "    return \"\".join(dec)"
   ]
  },
  {
   "cell_type": "markdown",
   "metadata": {},
   "source": [
    "Start Encode or Decode depending on Mode passed "
   ]
  },
  {
   "cell_type": "code",
   "execution_count": 6,
   "metadata": {},
   "outputs": [],
   "source": [
    "def Mode():\n",
    "    if (mode.get() == 'e' or mode.get() == 'E'):\n",
    "        Result.set(Encode(Key.get(),Message.get()))\n",
    "    elif (mode.get()=='d' or mode.get() == 'D'):\n",
    "        Result.set(Decode(Key.get(),Message.get()))\n",
    "    else:\n",
    "        Result.set(\"Please enter valid mode\")\n",
    "    "
   ]
  },
  {
   "cell_type": "markdown",
   "metadata": {},
   "source": [
    "Destroy Window on Exit button Invoke"
   ]
  },
  {
   "cell_type": "code",
   "execution_count": 7,
   "metadata": {},
   "outputs": [],
   "source": [
    "def Exit():\n",
    "    window.destroy()"
   ]
  },
  {
   "cell_type": "markdown",
   "metadata": {},
   "source": [
    "Result Variables on Reset button Invoke"
   ]
  },
  {
   "cell_type": "code",
   "execution_count": 8,
   "metadata": {},
   "outputs": [],
   "source": [
    "def Reset():\n",
    "    Message = \"\"\n",
    "    Key = \"\"\n",
    "    mode = \"\"\n",
    "    Result = \"\""
   ]
  },
  {
   "cell_type": "markdown",
   "metadata": {},
   "source": [
    "Setting up required Labels and button and invoking window"
   ]
  },
  {
   "cell_type": "code",
   "execution_count": 9,
   "metadata": {},
   "outputs": [],
   "source": [
    "Label(window, font= 'arial 12 bold', text='ENTER MESSAGE').place(x= 60,y=60)\n",
    "Entry(window, font = 'arial 10', textvariable = Message, bg = 'ghost white').place(x=290, y = 60)\n",
    "Label(window, font = 'arial 12 bold', text ='ENTER KEY').place(x=60, y = 90)\n",
    "Entry(window, font = 'arial 10', textvariable = Key , bg ='ghost white').place(x=290, y = 90)\n",
    "Label(window, font = 'arial 12 bold', text ='ENTER MODE(e/E or d/D)').place(x=60, y = 120)\n",
    "Entry(window, font = 'arial 10', textvariable = mode , bg= 'ghost white').place(x=290, y = 120)\n",
    "Entry(window, font = 'arial 10 bold', textvariable = Result, bg ='ghost white').place(x=290, y = 150)\n",
    "Button(window, font = 'arial 10 bold', text = 'RESULT'  ,padx =2,bg ='LightGray' ,command = Mode).place(x=60, y = 150)\n",
    "Button(window, font = 'arial 10 bold' ,text ='RESET' ,width =6, command = Reset,bg = 'LimeGreen', padx=2).place(x=80, y = 190)\n",
    "Button(window, font = 'arial 10 bold',text= 'EXIT' , width = 6, command = Exit,bg = 'OrangeRed', padx=2, pady=2).place(x=180, y = 190)\n",
    "window.mainloop()"
   ]
  }
 ],
 "metadata": {
  "kernelspec": {
   "display_name": "Python 3",
   "language": "python",
   "name": "python3"
  },
  "language_info": {
   "codemirror_mode": {
    "name": "ipython",
    "version": 3
   },
   "file_extension": ".py",
   "mimetype": "text/x-python",
   "name": "python",
   "nbconvert_exporter": "python",
   "pygments_lexer": "ipython3",
   "version": "3.7.4"
  }
 },
 "nbformat": 4,
 "nbformat_minor": 4
}
